


import mne
import matplotlib.pyplot as plt

# Load the EEG .edf file
file_path = "../data/s001r01.edf"
raw = mne.io.read_raw_edf(file_path, preload=True)

# Basic info
print(raw.info)

# Plot EEG signal of first few seconds
raw.plot(n_channels=10, duration=5, scalings='auto')



# Show available annotations (events)
print("Annotations:", raw.annotations)

# Or plot them on the signal
raw.plot(duration=10, n_channels=10, scalings='auto', show=True)





file_path = "../data/s001r04.edf"
raw = mne.io.read_raw_edf(file_path, preload=True)


print(raw.annotations)
raw.plot(duration=10, n_channels=10, scalings='auto', show=True)





event_id = {
    'T1': 1,  # Left hand
    'T2': 2,  # Right hand
}


# Convert annotations to machine-readable events
events, _ = mne.events_from_annotations(raw, event_id=event_id)

# Time window around event: 0 to 4 seconds
tmin, tmax = 0.0, 4.0

# Extract epochs for left and right hand
epochs = mne.Epochs(raw, events, event_id=event_id, tmin=tmin, tmax=tmax,
                    baseline=None, preload=True)

# Inspect shape and labels
X = epochs.get_data()             # EEG data → shape = (n_samples, n_channels, n_times)
y = epochs.events[:, -1]         # Labels → 1 for left, 2 for right

print("Epochs shape:", X.shape)
print("Labels:", y)








import numpy as np

# Flatten each epoch's 64 channels into simple features
# We'll compute mean + std for each channel = 2 features per channel
X_features = []

for epoch in X:
    features = []
    for ch in epoch:
        features.append(np.mean(ch))   # Mean of signal
        features.append(np.std(ch))    # Std dev of signal
    X_features.append(features)

X_features = np.array(X_features)
print("Shape of X_features:", X_features.shape)






from sklearn.ensemble import RandomForestClassifier
from sklearn.model_selection import train_test_split
from sklearn.metrics import classification_report, confusion_matrix

# Split data
X_train, X_test, y_train, y_test = train_test_split(X_features, y, test_size=0.3, random_state=42)

# Train Random Forest
clf = RandomForestClassifier(n_estimators=100, random_state=42)
clf.fit(X_train, y_train)

# Predict and evaluate
y_pred = clf.predict(X_test)

print("Classification Report:")
print(classification_report(y_test, y_pred))
print("Confusion Matrix:")
print(confusion_matrix(y_test, y_pred))





import os
import mne
import numpy as np
from scipy.signal import welch

# Config
data_path = "../data"
edf_files = ["s001r04.edf", "s001r08.edf", "s002r04.edf"]
sf = 160  # Sampling frequency
bands = [(8, 12), (12, 30)]  # Alpha and Beta

event_id = {'T1': 1, 'T2': 2}
tmin, tmax = 0.0, 4.0

X_all = []
y_all = []

def compute_band_power(epoch, sf, bands):
    powers = []
    for ch in epoch:
        freqs, psd = welch(ch, sf)
        for band in bands:
            idx = np.logical_and(freqs >= band[0], freqs <= band[1])
            powers.append(np.sum(psd[idx]))
    return powers

# Loop over files
for fname in edf_files:
    file_path = os.path.join(data_path, fname)
    raw = mne.io.read_raw_edf(file_path, preload=True)
    
    events, _ = mne.events_from_annotations(raw, event_id=event_id)
    if len(events) == 0:
        continue
    
    epochs = mne.Epochs(raw, events, event_id=event_id, tmin=tmin, tmax=tmax, 
                        baseline=None, preload=True)
    
    X = epochs.get_data()
    y = epochs.events[:, -1]
    
    X_power = np.array([compute_band_power(epoch, sf, bands) for epoch in X])
    
    X_all.append(X_power)
    y_all.append(y)

# Combine all
X_all = np.vstack(X_all)
y_all = np.hstack(y_all)

print("Total samples:", X_all.shape[0])
print("Feature shape:", X_all.shape)
print("Labels:", y_all)


bands = [
    (8, 13),   # Mu
    (13, 30),  # Beta
    (30, 45),  # Low Gamma
]



from sklearn.preprocessing import StandardScaler

scaler = StandardScaler()
X_scaled = scaler.fit_transform(X_all)
X_train, X_test, y_train, y_test = train_test_split(
    X_scaled, y_all, test_size=0.3, random_state=42, stratify=y_all
)


from sklearn.linear_model import LogisticRegression

clf = LogisticRegression(max_iter=1000, random_state=42)
clf.fit(X_train, y_train)


from sklearn.decomposition import PCA
import matplotlib.pyplot as plt

pca = PCA(n_components=2)
X_pca = pca.fit_transform(X_scaled)

plt.figure(figsize=(8,5))
plt.scatter(X_pca[:,0], X_pca[:,1], c=y_all, cmap='coolwarm', edgecolors='k')
plt.title("PCA Projection of EEG Features")
plt.xlabel("PC1"); plt.ylabel("PC2")
plt.show()





from sklearn.svm import SVC

clf = SVC(kernel='rbf', C=1.0, gamma='scale', random_state=42)
clf.fit(X_train, y_train)
y_pred = clf.predict(X_test)

from sklearn.metrics import classification_report, confusion_matrix
print(classification_report(y_test, y_pred))
print(confusion_matrix(y_test, y_pred))


from sklearn.svm import SVC

clf = SVC(kernel='linear', C=1.0, gamma='scale', random_state=42)
clf.fit(X_train, y_train)
y_pred = clf.predict(X_test)

from sklearn.metrics import classification_report, confusion_matrix
print(classification_report(y_test, y_pred))
print(confusion_matrix(y_test, y_pred))



