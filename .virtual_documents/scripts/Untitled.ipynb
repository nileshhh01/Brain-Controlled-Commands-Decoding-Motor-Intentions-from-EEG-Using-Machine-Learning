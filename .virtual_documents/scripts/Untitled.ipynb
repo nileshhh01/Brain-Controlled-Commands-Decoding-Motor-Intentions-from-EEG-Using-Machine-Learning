import os
import numpy as np
import mne
from mne.decoding import CSP
from sklearn.svm import SVC
from sklearn.pipeline import Pipeline
from sklearn.model_selection import train_test_split
from sklearn.preprocessing import StandardScaler
from sklearn.metrics import classification_report, confusion_matrix

# === CONFIG ===
data_dir = "../data"
edf_files = ["s001r04.edf", "s001r08.edf", "s002r04.edf"]
event_id = {"T1": 1, "T2": 2}
tmin, tmax = 0.0, 4.0

# === LOAD DATA ===
X_raw = []
y_raw = []
info = None

for fname in edf_files:
    path = os.path.join(data_dir, fname)
    raw = mne.io.read_raw_edf(path, preload=True)
    events, _ = mne.events_from_annotations(raw, event_id=event_id)

    if len(events) == 0:
        continue

    epochs = mne.Epochs(raw, events, event_id, tmin=tmin, tmax=tmax,
                        baseline=None, preload=True)

    X_raw.append(epochs.get_data())
    y_raw.append(epochs.events[:, -1])
    if info is None:
        info = epochs.info.copy()

X = np.vstack(X_raw)
y = np.hstack(y_raw)
y_bin = np.array([0 if val == 1 else 1 for val in y])  # 0 = Left, 1 = Right

# === CSP + SVM PIPELINE ===
X_train, X_test, y_train, y_test = train_test_split(
    X, y_bin, test_size=0.3, stratify=y_bin, random_state=42
)

csp = CSP(n_components=6, reg=None, log=True, norm_trace=False)

pipeline = Pipeline([
    ('csp', csp),
    ('scaler', StandardScaler()),
    ('svm', SVC(kernel='linear', C=1.0, random_state=42))
])

pipeline.fit(X_train, y_train)
y_pred = pipeline.predict(X_test)

print("=== CLASSIFICATION REPORT ===")
print(classification_report(y_test, y_pred))
print("Confusion Matrix:")
print(confusion_matrix(y_test, y_pred))

# === CSP TOPO PLOT ===
print("=== Plotting CSP Topomap ===")

# Re-load epochs just for plotting
raw = mne.io.read_raw_edf(os.path.join(data_dir, edf_files[0]), preload=True)
events, _ = mne.events_from_annotations(raw, event_id=event_id)
epochs_plot = mne.Epochs(raw, events, event_id, tmin=tmin, tmax=tmax, baseline=None, preload=True)

# Clean channel names
epochs_plot.rename_channels(lambda name: name.strip('.').upper())

# Load standard 10-20 layout
montage = mne.channels.make_standard_montage("standard_1020")

# Only keep channels with known positions
valid_chs = set(montage.ch_names)
drop_chs = [ch for ch in epochs_plot.info['ch_names'] if ch not in valid_chs]
epochs_plot.drop_channels(drop_chs)

# Set montage
epochs_plot.set_montage(montage)

# Now plot CSP patterns using updated info
csp.fit(X, y_bin)
csp.plot_patterns(info=epochs_plot.info, ch_type='eeg', units='Patterns (AU)', size=1.5)



import os
import numpy as np
import mne
from mne.decoding import CSP
from sklearn.svm import SVC
from sklearn.pipeline import Pipeline
from sklearn.model_selection import train_test_split
from sklearn.preprocessing import StandardScaler
from sklearn.metrics import classification_report, confusion_matrix

# === CONFIG ===
data_dir = "../data"
edf_files = ["s001r04.edf", "s001r08.edf", "s002r04.edf"]
event_id = {"T1": 1, "T2": 2}
tmin, tmax = 0.0, 4.0

# === LOAD & CLEAN DATA ===
X_raw = []
y_raw = []
montage = mne.channels.make_standard_montage("standard_1020")

for fname in edf_files:
    path = os.path.join(data_dir, fname)
    raw = mne.io.read_raw_edf(path, preload=True)
    events, _ = mne.events_from_annotations(raw, event_id=event_id)

    if len(events) == 0:
        continue

    epochs = mne.Epochs(raw, events, event_id, tmin=tmin, tmax=tmax,
                        baseline=None, preload=True)

    # Clean channel names and drop unknowns
    epochs.rename_channels(lambda name: name.strip('.').upper())
    drop_chs = [ch for ch in epochs.info['ch_names'] if ch not in montage.ch_names]
    epochs.drop_channels(drop_chs)
    epochs.set_montage(montage)

    X_raw.append(epochs.get_data())
    y_raw.append(epochs.events[:, -1])
    final_info = epochs.info  # Save for CSP plot

X = np.vstack(X_raw)
y = np.hstack(y_raw)
y_bin = np.array([0 if val == 1 else 1 for val in y])  # 0 = Left, 1 = Right

# === CLASSIFIER PIPELINE ===
X_train, X_test, y_train, y_test = train_test_split(
    X, y_bin, test_size=0.3, stratify=y_bin, random_state=42
)

csp = CSP(n_components=6, reg=None, log=True, norm_trace=False)

pipeline = Pipeline([
    ('csp', csp),
    ('scaler', StandardScaler()),
    ('svm', SVC(kernel='linear', C=1.0, random_state=42))
])

pipeline.fit(X_train, y_train)
y_pred = pipeline.predict(X_test)

print("=== CLASSIFICATION REPORT ===")
print(classification_report(y_test, y_pred))
print("Confusion Matrix:")
print(confusion_matrix(y_test, y_pred))

# === CSP TOPOGRAPHY ===
print("=== PLOTTING CSP TOPO MAP ===")
csp.fit(X, y_bin)
csp.plot_patterns(info=final_info, ch_type='eeg', units='Patterns (AU)', size=1.5)




